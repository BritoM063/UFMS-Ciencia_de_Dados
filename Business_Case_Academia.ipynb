{
  "nbformat": 4,
  "nbformat_minor": 0,
  "metadata": {
    "colab": {
      "provenance": [],
      "authorship_tag": "ABX9TyNjEv/NPUz4uIMdSuw3QWGZ",
      "include_colab_link": true
    },
    "kernelspec": {
      "name": "python3",
      "display_name": "Python 3"
    },
    "language_info": {
      "name": "python"
    }
  },
  "cells": [
    {
      "cell_type": "markdown",
      "metadata": {
        "id": "view-in-github",
        "colab_type": "text"
      },
      "source": [
        "<a href=\"https://colab.research.google.com/github/BritoM063/Gradua-o-UFMS---Ci-ncia-de-Dados/blob/main/Business_Case_Academia.ipynb\" target=\"_parent\"><img src=\"https://colab.research.google.com/assets/colab-badge.svg\" alt=\"Open In Colab\"/></a>"
      ]
    },
    {
      "cell_type": "markdown",
      "source": [
        "**Entrada de Dados**\n"
      ],
      "metadata": {
        "id": "YX4hHV9CWJ7z"
      }
    },
    {
      "cell_type": "code",
      "execution_count": 2,
      "metadata": {
        "colab": {
          "base_uri": "https://localhost:8080/"
        },
        "id": "Vca7T-qzV9kh",
        "outputId": "096b1217-9521-40d0-e15e-4a112ab6b874"
      },
      "outputs": [
        {
          "name": "stdout",
          "output_type": "stream",
          "text": [
            "Digite o nome do Aluno(a):Marcos\n",
            "Digite a idade do Aluno(a):38\n",
            "Digite o peso do Aluno(a) (kg):95\n",
            "Digite a altura do Aluno(a) (m):1.75\n"
          ]
        }
      ],
      "source": [
        "Nome = input('Digite o nome do Aluno(a):')\n",
        "Idade = input('Digite a idade do Aluno(a):')\n",
        "Peso = input('Digite o peso do Aluno(a) (kg):')\n",
        "Altura = input('Digite a altura do Aluno(a) (m):')"
      ]
    },
    {
      "cell_type": "markdown",
      "source": [
        "**Calculando o IMC**"
      ],
      "metadata": {
        "id": "LaOfAF0AWVEa"
      }
    },
    {
      "cell_type": "code",
      "source": [
        "imc = float(Peso) / float(Altura) ** 2"
      ],
      "metadata": {
        "id": "_QQxlsGLY_QO"
      },
      "execution_count": 40,
      "outputs": []
    },
    {
      "cell_type": "code",
      "source": [
        "print(imc)"
      ],
      "metadata": {
        "colab": {
          "base_uri": "https://localhost:8080/"
        },
        "id": "pmw15QEpa4do",
        "outputId": "86e487d6-2395-46c1-ee3c-e7adade184df"
      },
      "execution_count": 47,
      "outputs": [
        {
          "output_type": "stream",
          "name": "stdout",
          "text": [
            "31.020408163265305\n"
          ]
        }
      ]
    },
    {
      "cell_type": "markdown",
      "source": [
        "**Criando o Status**"
      ],
      "metadata": {
        "id": "cVlkAb8YWbFq"
      }
    },
    {
      "cell_type": "code",
      "source": [
        "status = 'dentro do peso'\n",
        "if imc > 25:\n",
        "  status = 'sobrepeso'"
      ],
      "metadata": {
        "id": "Wx_Z2LcocMGm"
      },
      "execution_count": 56,
      "outputs": []
    },
    {
      "cell_type": "code",
      "source": [
        "print (status)"
      ],
      "metadata": {
        "colab": {
          "base_uri": "https://localhost:8080/"
        },
        "id": "kkAq2V91fA7x",
        "outputId": "2587f796-7240-4bd9-b64c-49b91814faf0"
      },
      "execution_count": 57,
      "outputs": [
        {
          "output_type": "stream",
          "name": "stdout",
          "text": [
            "sobrepeso\n"
          ]
        }
      ]
    },
    {
      "cell_type": "markdown",
      "source": [
        "**Gerando o PDF**"
      ],
      "metadata": {
        "id": "JUlCPBR2WeZM"
      }
    },
    {
      "cell_type": "code",
      "source": [
        "!pip install pdf_reports"
      ],
      "metadata": {
        "id": "8w2vhlirfP_a"
      },
      "execution_count": null,
      "outputs": []
    },
    {
      "cell_type": "code",
      "source": [
        "import pdf_reports"
      ],
      "metadata": {
        "id": "7wti8CT_fsV2"
      },
      "execution_count": 59,
      "outputs": []
    },
    {
      "cell_type": "code",
      "source": [
        "dados_aluno = {\n",
        "    'nome': Nome,\n",
        "    'idade': Idade,\n",
        "    'peso': Peso,\n",
        "    'altura': Altura,\n",
        "    'imc': round(imc,2),\n",
        "    'status': status\n",
        "}"
      ],
      "metadata": {
        "id": "7Jk-b5O1gvBj"
      },
      "execution_count": 65,
      "outputs": []
    },
    {
      "cell_type": "code",
      "source": [
        "print (dados_aluno)"
      ],
      "metadata": {
        "colab": {
          "base_uri": "https://localhost:8080/"
        },
        "id": "OetN2CTzhfJL",
        "outputId": "63637888-dc3f-4b10-aaf0-0515a788b74b"
      },
      "execution_count": 66,
      "outputs": [
        {
          "output_type": "stream",
          "name": "stdout",
          "text": [
            "{'nome': 'Marcos', 'idade': '38', 'peso': '95', 'altura': '1.75', 'imc': 31.02, 'status': 'sobrepeso'}\n"
          ]
        }
      ]
    },
    {
      "cell_type": "code",
      "source": [
        "template = pdf_reports.pug_to_html('template.pug', dados=dados_aluno)"
      ],
      "metadata": {
        "id": "fWBajV9Af8GM"
      },
      "execution_count": 67,
      "outputs": []
    },
    {
      "cell_type": "code",
      "source": [
        "pdf_reports.write_report(template, 'ficha_aluno.pdf', use_default_styling=False)"
      ],
      "metadata": {
        "id": "yZdOxq3Vh0PP"
      },
      "execution_count": 68,
      "outputs": []
    },
    {
      "cell_type": "code",
      "source": [],
      "metadata": {
        "id": "661woTBkiAm4"
      },
      "execution_count": null,
      "outputs": []
    }
  ]
}